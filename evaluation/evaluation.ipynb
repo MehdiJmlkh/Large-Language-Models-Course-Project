{
  "cells": [
    {
      "cell_type": "code",
      "execution_count": 44,
      "metadata": {
        "id": "mZOI4wRYZsHD"
      },
      "outputs": [],
      "source": [
        "!pip install -q evaluate bert_score"
      ]
    },
    {
      "cell_type": "code",
      "execution_count": 45,
      "metadata": {
        "id": "wRJBwxFVZrED"
      },
      "outputs": [],
      "source": [
        "import torch\n",
        "from PIL import Image\n",
        "import torch\n",
        "\n",
        "from transformers.modeling_outputs import BaseModelOutput\n",
        "import matplotlib.pyplot as plt\n",
        "import numpy as np\n",
        "from functools import partial\n",
        "from huggingface_hub import PyTorchModelHubMixin"
      ]
    },
    {
      "cell_type": "markdown",
      "metadata": {
        "id": "_sYG1uAr6UEm"
      },
      "source": [
        "# Load Test Predictions"
      ]
    },
    {
      "cell_type": "code",
      "execution_count": 46,
      "metadata": {
        "id": "YgkgYcRU6UEn"
      },
      "outputs": [],
      "source": [
        "from datasets import load_dataset\n",
        "\n",
        "raw_results = load_dataset(\"MehdiJmlkh/SmolVLM-Results\", split=\"train\")\n",
        "fine_tune_results = load_dataset(\"MehdiJmlkh/SmolVLM-FT-Results\", split=\"train\")\n",
        "smol_driver_results = load_dataset(\"MehdiJmlkh/SmolDriver-Results\", split=\"train\")"
      ]
    },
    {
      "cell_type": "code",
      "source": [
        "from datasets import load_dataset\n",
        "import re\n",
        "\n",
        "\n",
        "def no_tuple_pattern(example):\n",
        "    return not re.search(r\"\\([^)]*,[^)]*\\)\", example[\"question\"])\n",
        "\n",
        "raw_results = raw_results.filter(no_tuple_pattern)\n",
        "smol_driver_results = smol_driver_results.filter(no_tuple_pattern)\n",
        "fine_tune_results = fine_tune_results.filter(no_tuple_pattern)"
      ],
      "metadata": {
        "colab": {
          "base_uri": "https://localhost:8080/",
          "height": 113,
          "referenced_widgets": [
            "e553597f7ff342b38bbc075dbf4d2496",
            "8dd2f43f7ea64c7baa6e9ecab0a51932",
            "0375c294fa794cdd8b1de9d3cb4ab89e",
            "2d7421ee9f19446aba046e0ae11237d6",
            "5027d15a729c42848a71181ac589f974",
            "6cb40e3442d64b9e980f4208619db4b6",
            "41220aac77584fad9ab29769afb788dc",
            "3440f14e085b41ffbdd8c4c86dd066bc",
            "ec55f77e25154bf1b0f8ff7582d4a980",
            "af9ea5b67c0246948493e87ebbbaebea",
            "7badd60af6bd477ba34d978100ee7f6a",
            "3434078782be4d54a70e392cef2f7d85",
            "5fc3a3ffb64549b696d488957ff5cf35",
            "2bef7d3bffab4a299f702d99b48a42d0",
            "3b9a910aa34b4b7cbbaf61e076ce6bec",
            "d4fc11691dff42038962098666356dcf",
            "839554ee79db42ebbcfecebe8bd2bc7e",
            "b9073e824d324917803c5733421ce831",
            "e2d74a4e298444178b8204121dc80244",
            "1956282698854909b53bb465f0220bf3",
            "f8047f68906e4ebbbfc1c62b7a020e50",
            "3d4cbd01b1a24d4c89efb2161cf8bfb1",
            "3c83e01ae5cb48c8b66b94fbb1c21e4d",
            "5a60e6e00d3b4b3ea5886fc7d7f62eac",
            "a1d49b24a0a846879727a2ecbe5029da",
            "24c6a3ec1e0243a490f7c9837ef8283f",
            "9c41c59722534e08905fc74bb660811a",
            "ccf5f73c644d42f181bf05c2265a1b3f",
            "c2cb20d3eaf741969593abcd9a343aa0",
            "75b400dcb5e542d4aba85be603634735",
            "9b9ca8cd742c430da333140b310af5ef",
            "242b3a1a5ea54ea2949f4093d765c7c0",
            "10cb1593ac77451cb4a1d4949bd8de95"
          ]
        },
        "id": "i4l-uxFO7MmK",
        "outputId": "6311c8d9-9ea7-485c-b43d-23b2ec8503e1"
      },
      "execution_count": 65,
      "outputs": [
        {
          "output_type": "display_data",
          "data": {
            "text/plain": [
              "Filter:   0%|          | 0/1305 [00:00<?, ? examples/s]"
            ],
            "application/vnd.jupyter.widget-view+json": {
              "version_major": 2,
              "version_minor": 0,
              "model_id": "e553597f7ff342b38bbc075dbf4d2496"
            }
          },
          "metadata": {}
        },
        {
          "output_type": "display_data",
          "data": {
            "text/plain": [
              "Filter:   0%|          | 0/1305 [00:00<?, ? examples/s]"
            ],
            "application/vnd.jupyter.widget-view+json": {
              "version_major": 2,
              "version_minor": 0,
              "model_id": "3434078782be4d54a70e392cef2f7d85"
            }
          },
          "metadata": {}
        },
        {
          "output_type": "display_data",
          "data": {
            "text/plain": [
              "Filter:   0%|          | 0/1305 [00:00<?, ? examples/s]"
            ],
            "application/vnd.jupyter.widget-view+json": {
              "version_major": 2,
              "version_minor": 0,
              "model_id": "3c83e01ae5cb48c8b66b94fbb1c21e4d"
            }
          },
          "metadata": {}
        }
      ]
    },
    {
      "cell_type": "markdown",
      "source": [
        "# Load Metrics"
      ],
      "metadata": {
        "id": "XLRrm1mE29JT"
      }
    },
    {
      "cell_type": "code",
      "source": [
        "import evaluate\n",
        "bleu=evaluate.load(\"bleu\")\n",
        "bertscore=evaluate.load(\"bertscore\")"
      ],
      "metadata": {
        "id": "EBtd2PI026ly"
      },
      "execution_count": 59,
      "outputs": []
    },
    {
      "cell_type": "code",
      "execution_count": 60,
      "metadata": {
        "id": "LwULvzuwjPaX"
      },
      "outputs": [],
      "source": [
        "class Evaluate:\n",
        "    def __init__(self, results) -> None:\n",
        "        self.preds = list(results[\"prediction\"])\n",
        "        self.refs = list(results[\"answer\"])\n",
        "        self.questions = list(results[\"question\"])\n",
        "\n",
        "        self.bleu_result = bleu.compute(predictions=self.preds, references=self.refs)\n",
        "        self.bert_result = bertscore.compute(predictions=self.preds, references=self.refs, lang=\"en\")\n",
        "\n",
        "    def get_avg_scores(self):\n",
        "        scores = {\n",
        "              \"BLEU\": self.bleu_result[\"bleu\"],\n",
        "              \"BERTScore_P\": sum(self.bert_result[\"precision\"]) / len(self.bert_result[\"precision\"]),\n",
        "              \"BERTScore_R\": sum(self.bert_result[\"recall\"]) / len(self.bert_result[\"recall\"]),\n",
        "              \"BERTScore_F1\": sum(self.bert_result[\"f1\"]) / len(self.bert_result[\"f1\"])\n",
        "        }\n",
        "        return scores\n",
        "\n",
        "    def print_lowest_bert(self, score_type, k=5):\n",
        "        lowest_scores, lowest_indexes = self.__get_lowest_k(self.bert_result[score_type], k)\n",
        "\n",
        "        for idx, score in zip(lowest_indexes, lowest_scores):\n",
        "            print(f\"{score_type} score:\", score)\n",
        "            print(\"Index:\" ,idx)\n",
        "            print(\"Question:\", self.questions[idx])\n",
        "            print(f\"Label:\", self.refs[idx])\n",
        "            print(f\"Answer:\", self.preds[idx])\n",
        "            print(\"-\" * 50)\n",
        "\n",
        "    def __get_lowest_k(self, scores, k=5):\n",
        "        scores = np.array(scores)\n",
        "        lowest_indices = scores.argsort()[:k]\n",
        "        lowest_scores = scores[lowest_indices]\n",
        "        return list(lowest_scores), list(lowest_indices)"
      ]
    },
    {
      "cell_type": "code",
      "source": [
        "raw_eval = Evaluate(raw_results)\n",
        "raw_eval.get_avg_scores()"
      ],
      "metadata": {
        "id": "RdT2yC0s6rGX",
        "outputId": "5142e3a3-c201-434a-96cc-715d39e12886",
        "colab": {
          "base_uri": "https://localhost:8080/"
        }
      },
      "execution_count": 66,
      "outputs": [
        {
          "output_type": "execute_result",
          "data": {
            "text/plain": [
              "{'BLEU': 0.08588538709157112,\n",
              " 'BERTScore_P': 0.8704354751155751,\n",
              " 'BERTScore_R': 0.9188978484307212,\n",
              " 'BERTScore_F1': 0.8935234272617033}"
            ]
          },
          "metadata": {},
          "execution_count": 66
        }
      ]
    },
    {
      "cell_type": "code",
      "execution_count": 67,
      "metadata": {
        "colab": {
          "base_uri": "https://localhost:8080/"
        },
        "id": "GKkxKA-npcrX",
        "outputId": "f31cfe51-5c61-420b-8bd2-a56c271e93e5"
      },
      "outputs": [
        {
          "output_type": "execute_result",
          "data": {
            "text/plain": [
              "{'BLEU': 0.2143340725645085,\n",
              " 'BERTScore_P': 0.9451123196959952,\n",
              " 'BERTScore_R': 0.9409183467484982,\n",
              " 'BERTScore_F1': 0.9427071601951716}"
            ]
          },
          "metadata": {},
          "execution_count": 67
        }
      ],
      "source": [
        "fine_tune_eval = Evaluate(fine_tune_results)\n",
        "fine_tune_eval.get_avg_scores()"
      ]
    },
    {
      "cell_type": "code",
      "execution_count": 68,
      "metadata": {
        "colab": {
          "base_uri": "https://localhost:8080/"
        },
        "id": "YKwkPJwbprli",
        "outputId": "e6e5bb1b-b307-47b1-8af1-4926bfdcd7c2"
      },
      "outputs": [
        {
          "output_type": "execute_result",
          "data": {
            "text/plain": [
              "{'BLEU': 0.40599144319905867,\n",
              " 'BERTScore_P': 0.9723249873895755,\n",
              " 'BERTScore_R': 0.9615717893816046,\n",
              " 'BERTScore_F1': 0.9667517475241445}"
            ]
          },
          "metadata": {},
          "execution_count": 68
        }
      ],
      "source": [
        "smol_driver_eval = Evaluate(smol_driver_results)\n",
        "smol_driver_eval.get_avg_scores()"
      ]
    },
    {
      "cell_type": "code",
      "source": [
        "smol_driver_eval.print_lowest_bert(\"precision\")"
      ],
      "metadata": {
        "id": "4ANnJGcG0fUo",
        "outputId": "4e8e64ba-7889-4d08-dd3c-e2207a0486d9",
        "colab": {
          "base_uri": "https://localhost:8080/"
        }
      },
      "execution_count": 69,
      "outputs": [
        {
          "output_type": "stream",
          "name": "stdout",
          "text": [
            "precision score: 0.7873367667198181\n",
            "Index: 703\n",
            "Question: What is the traffic signal that the ego vehicle should pay attention to?\n",
            "Label: None.\n",
            "Answer: There is one pedestrian to the ego vehicle to the front left of the ego vehicle to the front left of the ego vehicle to the front left of the ego vehicle\n",
            "--------------------------------------------------\n",
            "precision score: 0.8320485949516296\n",
            "Index: 682\n",
            "Question: In this scenario, what are dangerous actions to take for the ego vehicle?\n",
            "Label: Back up, brake suddenly.\n",
            "Answer: Accelerate and go ahead, turn left, and turn right are dangerous actions to take for the ego vehicle in this scenario.\n",
            "--------------------------------------------------\n",
            "precision score: 0.8441763520240784\n",
            "Index: 702\n",
            "Question: Are there motorcycles without riders to the front left of the ego car?\n",
            "Label: No.\n",
            "Answer: There are many pedestrians to the front left of the ego car.\n",
            "--------------------------------------------------\n",
            "precision score: 0.846842348575592\n",
            "Index: 781\n",
            "Question: In this scenario, what are dangerous actions to take for the ego vehicle?\n",
            "Label: Back up, brake suddenly.\n",
            "Answer: Accelerate and go ahead, turn left, and turn right.\n",
            "--------------------------------------------------\n",
            "precision score: 0.8496172428131104\n",
            "Index: 349\n",
            "Question: In this scenario, what are safe actions to take for the ego vehicle?\n",
            "Label: Brake suddenly, slightly offset to the left.\n",
            "Answer: Keep going at the same speed, decelerate gradually without braking.\n",
            "--------------------------------------------------\n"
          ]
        }
      ]
    },
    {
      "cell_type": "code",
      "source": [
        "smol_driver_eval.print_lowest_bert(\"recall\")"
      ],
      "metadata": {
        "id": "9myuu7yX2aKM",
        "outputId": "e38ae712-5bce-4e7d-a22b-b12d7933e5fc",
        "colab": {
          "base_uri": "https://localhost:8080/"
        }
      },
      "execution_count": 70,
      "outputs": [
        {
          "output_type": "stream",
          "name": "stdout",
          "text": [
            "recall score: 0.8247115612030029\n",
            "Index: 882\n",
            "Question: What is the target action of the ego vehicle?\n",
            "Label: Brake gently to a stop.\n",
            "Answer: Go straight.\n",
            "--------------------------------------------------\n",
            "recall score: 0.8328759670257568\n",
            "Index: 757\n",
            "Question: Please describe the current scene.\n",
            "Label: There is one moving car to the back of the ego car, one parked car to the front of the ego car, one parked car to the front right of the ego car, many parked cars to the back of the ego car, one parked truck to the front of the ego car, one parked truck to the back right of the ego car, two moving trucks to the back of the ego car, and one moving pedestrian to the front of the ego car.\n",
            "Answer: There is one moving car in front of the ego car.\n",
            "--------------------------------------------------\n",
            "recall score: 0.8345067501068115\n",
            "Index: 920\n",
            "Question: Please describe the current scene.\n",
            "Label: There is one parked car to the front right of the ego car, one bicycle without a rider to the front right of the ego car, and one standing pedestrian to the front of the ego car.\n",
            "Answer: There is one car behind the ego.\n",
            "--------------------------------------------------\n",
            "recall score: 0.8370352983474731\n",
            "Index: 581\n",
            "Question: Please describe the current scene.\n",
            "Label: There is one moving car in front of the ego car, one parked construction vehicle to the front right of the ego car, one barrier in front of the ego car, one barrier to the back right of the ego car, many traffic cones in front of the ego car, one traffic cone to the front right of the ego car, one traffic cone to the back right of the ego car, and three traffic cones to the back of the ego car.\n",
            "Answer: There is one moving car in front of the ego car.\n",
            "--------------------------------------------------\n",
            "recall score: 0.8372446298599243\n",
            "Index: 1163\n",
            "Question: In this scenario, what are safe actions to take for the ego vehicle?\n",
            "Label: Brake suddenly, brake gently to a stop, slightly offset to the left, change to the left lane, turn left, and back up.\n",
            "Answer: Keep going at the same speed, decelerate gradually without braking.\n",
            "--------------------------------------------------\n"
          ]
        }
      ]
    },
    {
      "cell_type": "code",
      "source": [
        "smol_driver_eval.print_lowest_bert(\"f1\")"
      ],
      "metadata": {
        "id": "zDUdWHTa2jmD",
        "outputId": "2a89fcfc-8b08-4cd9-dfb7-ca08bd46222d",
        "colab": {
          "base_uri": "https://localhost:8080/"
        }
      },
      "execution_count": 71,
      "outputs": [
        {
          "output_type": "stream",
          "name": "stdout",
          "text": [
            "f1 score: 0.8466175198554993\n",
            "Index: 682\n",
            "Question: In this scenario, what are dangerous actions to take for the ego vehicle?\n",
            "Label: Back up, brake suddenly.\n",
            "Answer: Accelerate and go ahead, turn left, and turn right are dangerous actions to take for the ego vehicle in this scenario.\n",
            "--------------------------------------------------\n",
            "f1 score: 0.8501881957054138\n",
            "Index: 1163\n",
            "Question: In this scenario, what are safe actions to take for the ego vehicle?\n",
            "Label: Brake suddenly, brake gently to a stop, slightly offset to the left, change to the left lane, turn left, and back up.\n",
            "Answer: Keep going at the same speed, decelerate gradually without braking.\n",
            "--------------------------------------------------\n",
            "f1 score: 0.8514255285263062\n",
            "Index: 154\n",
            "Question: In this scenario, what are safe actions to take for the ego vehicle?\n",
            "Label: Slightly offset to the left, and slightly offset to the right are safe actions to take for the ego vehicle in this scenario.\n",
            "Answer: Keep going at the same speed, decelerate gradually without braking.\n",
            "--------------------------------------------------\n",
            "f1 score: 0.854202151298523\n",
            "Index: 846\n",
            "Question: In this scenario, what are dangerous actions to take for the ego vehicle?\n",
            "Label: Changing to the left lane, changing to the right lane, and backing up are dangerous actions for the ego vehicle in this scenario.\n",
            "Answer: Accelerate and go ahead, turn left, and turn right.\n",
            "--------------------------------------------------\n",
            "f1 score: 0.8548678159713745\n",
            "Index: 349\n",
            "Question: In this scenario, what are safe actions to take for the ego vehicle?\n",
            "Label: Brake suddenly, slightly offset to the left.\n",
            "Answer: Keep going at the same speed, decelerate gradually without braking.\n",
            "--------------------------------------------------\n"
          ]
        }
      ]
    },
    {
      "cell_type": "markdown",
      "source": [
        "---"
      ],
      "metadata": {
        "id": "Bp3Qpy7z-T2F"
      }
    },
    {
      "cell_type": "code",
      "source": [
        "fine_tune_eval.print_lowest_bert(\"precision\")"
      ],
      "metadata": {
        "id": "kEfFC6tV9azm",
        "outputId": "3fe655b1-6fbf-4898-f27d-73ac2adada29",
        "colab": {
          "base_uri": "https://localhost:8080/"
        }
      },
      "execution_count": 72,
      "outputs": [
        {
          "output_type": "stream",
          "name": "stdout",
          "text": [
            "precision score: 0.8336473703384399\n",
            "Index: 555\n",
            "Question: In this scenario, what are safe actions to take for the ego vehicle?\n",
            "Label: Brake gently to a stop.\n",
            "Answer: The safe actions for the ego vehicle in this scenario are to wait for other vehicles to pass and then proceed when it is safe to do so.\n",
            "--------------------------------------------------\n",
            "precision score: 0.8356881141662598\n",
            "Index: 48\n",
            "Question: Are there motorcycles without riders to the front left of the ego car?\n",
            "Label: Yes.\n",
            "Answer: No, there are no motorcycles without riders to the front left of the ego car.\n",
            "--------------------------------------------------\n",
            "precision score: 0.8358253240585327\n",
            "Index: 232\n",
            "Question: In this scenario, what are safe actions to take for the ego vehicle?\n",
            "Label: Keep going at the same speed, decelerate gradually without braking.\n",
            "Answer: The safe actions for the ego vehicle would be to proceed straight through the current traffic light and then proceed straight through the subsequent intersection controlled by another traffic light.\n",
            "--------------------------------------------------\n",
            "precision score: 0.8359273672103882\n",
            "Index: 247\n",
            "Question: Are there bicycles without riders to the front left of the ego car?\n",
            "Label: No.\n",
            "Answer: No, there are no bicycles without riders to the front left of the ego car.\n",
            "--------------------------------------------------\n",
            "precision score: 0.8364115357398987\n",
            "Index: 702\n",
            "Question: Are there motorcycles without riders to the front left of the ego car?\n",
            "Label: No.\n",
            "Answer: No, there are no motorcycles without riders to the front left of the ego car.\n",
            "--------------------------------------------------\n"
          ]
        }
      ]
    },
    {
      "cell_type": "code",
      "source": [
        "fine_tune_eval.print_lowest_bert(\"recall\")"
      ],
      "metadata": {
        "id": "t5SAUBci-CZE",
        "outputId": "ece64074-9ee4-44f7-d5ce-9c6caa7c549e",
        "colab": {
          "base_uri": "https://localhost:8080/"
        }
      },
      "execution_count": 73,
      "outputs": [
        {
          "output_type": "stream",
          "name": "stdout",
          "text": [
            "recall score: 0.7843673229217529\n",
            "Index: 998\n",
            "Question: In this scenario, what are safe actions to take for the ego vehicle?\n",
            "Label: Keep going at the same speed, accelerate and proceed, brake gently to a stop, decelerate gradually without braking, slightly offset to the left, change to the left lane, turn left.\n",
            "Answer: The ego vehicle should proceed forward.\n",
            "--------------------------------------------------\n",
            "recall score: 0.790134072303772\n",
            "Index: 1210\n",
            "Question: In this scenario, what are dangerous actions to take for the ego vehicle?\n",
            "Label: Brake suddenly, brake gently to a stop, back up, change to the right lane, change to the left lane, turn right, turn left.\n",
            "Answer: The ego vehicle should not take any dangerous actions.\n",
            "--------------------------------------------------\n",
            "recall score: 0.8142334222793579\n",
            "Index: 882\n",
            "Question: What is the target action of the ego vehicle?\n",
            "Label: Brake gently to a stop.\n",
            "Answer: Go.\n",
            "--------------------------------------------------\n",
            "recall score: 0.8158155083656311\n",
            "Index: 904\n",
            "Question: Please describe the current scene.\n",
            "Label: There is one moving car to the back left of the ego car, one parked car to the front of the ego car, one parked car to the front left of the ego car, one parked truck to the back of the ego car, one stopped bus to the back of the ego car, three barriers to the back right of the ego car, many barriers to the back of the ego car, one moving pedestrian to the front right of the ego car, and one traffic cone to the front right of the ego car.\n",
            "Answer: The image depicts a city street with several cars, including a black SUV, a silver sedan, and a white truck, all parked or moving along the\n",
            "--------------------------------------------------\n",
            "recall score: 0.8169775605201721\n",
            "Index: 757\n",
            "Question: Please describe the current scene.\n",
            "Label: There is one moving car to the back of the ego car, one parked car to the front of the ego car, one parked car to the front right of the ego car, many parked cars to the back of the ego car, one parked truck to the front of the ego car, one parked truck to the back right of the ego car, two moving trucks to the back of the ego car, and one moving pedestrian to the front of the ego car.\n",
            "Answer: The ego vehicle is driving on a street with a few cars parked on the side. There are trees, buildings, and a bridge in the background.\n",
            "--------------------------------------------------\n"
          ]
        }
      ]
    },
    {
      "cell_type": "code",
      "source": [
        "fine_tune_eval.print_lowest_bert(\"f1\")"
      ],
      "metadata": {
        "id": "nTLHofXS-IGK",
        "outputId": "023721b4-5204-4ee4-e7ed-68d0aaec60ac",
        "colab": {
          "base_uri": "https://localhost:8080/"
        }
      },
      "execution_count": 74,
      "outputs": [
        {
          "output_type": "stream",
          "name": "stdout",
          "text": [
            "f1 score: 0.8189147710800171\n",
            "Index: 1210\n",
            "Question: In this scenario, what are dangerous actions to take for the ego vehicle?\n",
            "Label: Brake suddenly, brake gently to a stop, back up, change to the right lane, change to the left lane, turn right, turn left.\n",
            "Answer: The ego vehicle should not take any dangerous actions.\n",
            "--------------------------------------------------\n",
            "f1 score: 0.8251954913139343\n",
            "Index: 998\n",
            "Question: In this scenario, what are safe actions to take for the ego vehicle?\n",
            "Label: Keep going at the same speed, accelerate and proceed, brake gently to a stop, decelerate gradually without braking, slightly offset to the left, change to the left lane, turn left.\n",
            "Answer: The ego vehicle should proceed forward.\n",
            "--------------------------------------------------\n",
            "f1 score: 0.8312506675720215\n",
            "Index: 555\n",
            "Question: In this scenario, what are safe actions to take for the ego vehicle?\n",
            "Label: Brake gently to a stop.\n",
            "Answer: The safe actions for the ego vehicle in this scenario are to wait for other vehicles to pass and then proceed when it is safe to do so.\n",
            "--------------------------------------------------\n",
            "f1 score: 0.8321176767349243\n",
            "Index: 904\n",
            "Question: Please describe the current scene.\n",
            "Label: There is one moving car to the back left of the ego car, one parked car to the front of the ego car, one parked car to the front left of the ego car, one parked truck to the back of the ego car, one stopped bus to the back of the ego car, three barriers to the back right of the ego car, many barriers to the back of the ego car, one moving pedestrian to the front right of the ego car, and one traffic cone to the front right of the ego car.\n",
            "Answer: The image depicts a city street with several cars, including a black SUV, a silver sedan, and a white truck, all parked or moving along the\n",
            "--------------------------------------------------\n",
            "f1 score: 0.8349924087524414\n",
            "Index: 797\n",
            "Question: In this scenario, what are safe actions to take for the ego vehicle?\n",
            "Label: Keep going at the same speed, slightly offset to the left, and slightly offset to the right.\n",
            "Answer: The ego vehicle should proceed with caution and avoid the construction area.\n",
            "--------------------------------------------------\n"
          ]
        }
      ]
    }
  ],
  "metadata": {
    "accelerator": "GPU",
    "colab": {
      "collapsed_sections": [
        "Q64kCIOhbkAj"
      ],
      "gpuType": "T4",
      "provenance": []
    },
    "kernelspec": {
      "display_name": "Python 3",
      "name": "python3"
    },
    "language_info": {
      "name": "python"
    },
    "widgets": {
      "application/vnd.jupyter.widget-state+json": {
        "e553597f7ff342b38bbc075dbf4d2496": {
          "model_module": "@jupyter-widgets/controls",
          "model_name": "HBoxModel",
          "model_module_version": "1.5.0",
          "state": {
            "_dom_classes": [],
            "_model_module": "@jupyter-widgets/controls",
            "_model_module_version": "1.5.0",
            "_model_name": "HBoxModel",
            "_view_count": null,
            "_view_module": "@jupyter-widgets/controls",
            "_view_module_version": "1.5.0",
            "_view_name": "HBoxView",
            "box_style": "",
            "children": [
              "IPY_MODEL_8dd2f43f7ea64c7baa6e9ecab0a51932",
              "IPY_MODEL_0375c294fa794cdd8b1de9d3cb4ab89e",
              "IPY_MODEL_2d7421ee9f19446aba046e0ae11237d6"
            ],
            "layout": "IPY_MODEL_5027d15a729c42848a71181ac589f974"
          }
        },
        "8dd2f43f7ea64c7baa6e9ecab0a51932": {
          "model_module": "@jupyter-widgets/controls",
          "model_name": "HTMLModel",
          "model_module_version": "1.5.0",
          "state": {
            "_dom_classes": [],
            "_model_module": "@jupyter-widgets/controls",
            "_model_module_version": "1.5.0",
            "_model_name": "HTMLModel",
            "_view_count": null,
            "_view_module": "@jupyter-widgets/controls",
            "_view_module_version": "1.5.0",
            "_view_name": "HTMLView",
            "description": "",
            "description_tooltip": null,
            "layout": "IPY_MODEL_6cb40e3442d64b9e980f4208619db4b6",
            "placeholder": "​",
            "style": "IPY_MODEL_41220aac77584fad9ab29769afb788dc",
            "value": "Filter: 100%"
          }
        },
        "0375c294fa794cdd8b1de9d3cb4ab89e": {
          "model_module": "@jupyter-widgets/controls",
          "model_name": "FloatProgressModel",
          "model_module_version": "1.5.0",
          "state": {
            "_dom_classes": [],
            "_model_module": "@jupyter-widgets/controls",
            "_model_module_version": "1.5.0",
            "_model_name": "FloatProgressModel",
            "_view_count": null,
            "_view_module": "@jupyter-widgets/controls",
            "_view_module_version": "1.5.0",
            "_view_name": "ProgressView",
            "bar_style": "success",
            "description": "",
            "description_tooltip": null,
            "layout": "IPY_MODEL_3440f14e085b41ffbdd8c4c86dd066bc",
            "max": 1305,
            "min": 0,
            "orientation": "horizontal",
            "style": "IPY_MODEL_ec55f77e25154bf1b0f8ff7582d4a980",
            "value": 1305
          }
        },
        "2d7421ee9f19446aba046e0ae11237d6": {
          "model_module": "@jupyter-widgets/controls",
          "model_name": "HTMLModel",
          "model_module_version": "1.5.0",
          "state": {
            "_dom_classes": [],
            "_model_module": "@jupyter-widgets/controls",
            "_model_module_version": "1.5.0",
            "_model_name": "HTMLModel",
            "_view_count": null,
            "_view_module": "@jupyter-widgets/controls",
            "_view_module_version": "1.5.0",
            "_view_name": "HTMLView",
            "description": "",
            "description_tooltip": null,
            "layout": "IPY_MODEL_af9ea5b67c0246948493e87ebbbaebea",
            "placeholder": "​",
            "style": "IPY_MODEL_7badd60af6bd477ba34d978100ee7f6a",
            "value": " 1305/1305 [00:00&lt;00:00, 22913.65 examples/s]"
          }
        },
        "5027d15a729c42848a71181ac589f974": {
          "model_module": "@jupyter-widgets/base",
          "model_name": "LayoutModel",
          "model_module_version": "1.2.0",
          "state": {
            "_model_module": "@jupyter-widgets/base",
            "_model_module_version": "1.2.0",
            "_model_name": "LayoutModel",
            "_view_count": null,
            "_view_module": "@jupyter-widgets/base",
            "_view_module_version": "1.2.0",
            "_view_name": "LayoutView",
            "align_content": null,
            "align_items": null,
            "align_self": null,
            "border": null,
            "bottom": null,
            "display": null,
            "flex": null,
            "flex_flow": null,
            "grid_area": null,
            "grid_auto_columns": null,
            "grid_auto_flow": null,
            "grid_auto_rows": null,
            "grid_column": null,
            "grid_gap": null,
            "grid_row": null,
            "grid_template_areas": null,
            "grid_template_columns": null,
            "grid_template_rows": null,
            "height": null,
            "justify_content": null,
            "justify_items": null,
            "left": null,
            "margin": null,
            "max_height": null,
            "max_width": null,
            "min_height": null,
            "min_width": null,
            "object_fit": null,
            "object_position": null,
            "order": null,
            "overflow": null,
            "overflow_x": null,
            "overflow_y": null,
            "padding": null,
            "right": null,
            "top": null,
            "visibility": null,
            "width": null
          }
        },
        "6cb40e3442d64b9e980f4208619db4b6": {
          "model_module": "@jupyter-widgets/base",
          "model_name": "LayoutModel",
          "model_module_version": "1.2.0",
          "state": {
            "_model_module": "@jupyter-widgets/base",
            "_model_module_version": "1.2.0",
            "_model_name": "LayoutModel",
            "_view_count": null,
            "_view_module": "@jupyter-widgets/base",
            "_view_module_version": "1.2.0",
            "_view_name": "LayoutView",
            "align_content": null,
            "align_items": null,
            "align_self": null,
            "border": null,
            "bottom": null,
            "display": null,
            "flex": null,
            "flex_flow": null,
            "grid_area": null,
            "grid_auto_columns": null,
            "grid_auto_flow": null,
            "grid_auto_rows": null,
            "grid_column": null,
            "grid_gap": null,
            "grid_row": null,
            "grid_template_areas": null,
            "grid_template_columns": null,
            "grid_template_rows": null,
            "height": null,
            "justify_content": null,
            "justify_items": null,
            "left": null,
            "margin": null,
            "max_height": null,
            "max_width": null,
            "min_height": null,
            "min_width": null,
            "object_fit": null,
            "object_position": null,
            "order": null,
            "overflow": null,
            "overflow_x": null,
            "overflow_y": null,
            "padding": null,
            "right": null,
            "top": null,
            "visibility": null,
            "width": null
          }
        },
        "41220aac77584fad9ab29769afb788dc": {
          "model_module": "@jupyter-widgets/controls",
          "model_name": "DescriptionStyleModel",
          "model_module_version": "1.5.0",
          "state": {
            "_model_module": "@jupyter-widgets/controls",
            "_model_module_version": "1.5.0",
            "_model_name": "DescriptionStyleModel",
            "_view_count": null,
            "_view_module": "@jupyter-widgets/base",
            "_view_module_version": "1.2.0",
            "_view_name": "StyleView",
            "description_width": ""
          }
        },
        "3440f14e085b41ffbdd8c4c86dd066bc": {
          "model_module": "@jupyter-widgets/base",
          "model_name": "LayoutModel",
          "model_module_version": "1.2.0",
          "state": {
            "_model_module": "@jupyter-widgets/base",
            "_model_module_version": "1.2.0",
            "_model_name": "LayoutModel",
            "_view_count": null,
            "_view_module": "@jupyter-widgets/base",
            "_view_module_version": "1.2.0",
            "_view_name": "LayoutView",
            "align_content": null,
            "align_items": null,
            "align_self": null,
            "border": null,
            "bottom": null,
            "display": null,
            "flex": null,
            "flex_flow": null,
            "grid_area": null,
            "grid_auto_columns": null,
            "grid_auto_flow": null,
            "grid_auto_rows": null,
            "grid_column": null,
            "grid_gap": null,
            "grid_row": null,
            "grid_template_areas": null,
            "grid_template_columns": null,
            "grid_template_rows": null,
            "height": null,
            "justify_content": null,
            "justify_items": null,
            "left": null,
            "margin": null,
            "max_height": null,
            "max_width": null,
            "min_height": null,
            "min_width": null,
            "object_fit": null,
            "object_position": null,
            "order": null,
            "overflow": null,
            "overflow_x": null,
            "overflow_y": null,
            "padding": null,
            "right": null,
            "top": null,
            "visibility": null,
            "width": null
          }
        },
        "ec55f77e25154bf1b0f8ff7582d4a980": {
          "model_module": "@jupyter-widgets/controls",
          "model_name": "ProgressStyleModel",
          "model_module_version": "1.5.0",
          "state": {
            "_model_module": "@jupyter-widgets/controls",
            "_model_module_version": "1.5.0",
            "_model_name": "ProgressStyleModel",
            "_view_count": null,
            "_view_module": "@jupyter-widgets/base",
            "_view_module_version": "1.2.0",
            "_view_name": "StyleView",
            "bar_color": null,
            "description_width": ""
          }
        },
        "af9ea5b67c0246948493e87ebbbaebea": {
          "model_module": "@jupyter-widgets/base",
          "model_name": "LayoutModel",
          "model_module_version": "1.2.0",
          "state": {
            "_model_module": "@jupyter-widgets/base",
            "_model_module_version": "1.2.0",
            "_model_name": "LayoutModel",
            "_view_count": null,
            "_view_module": "@jupyter-widgets/base",
            "_view_module_version": "1.2.0",
            "_view_name": "LayoutView",
            "align_content": null,
            "align_items": null,
            "align_self": null,
            "border": null,
            "bottom": null,
            "display": null,
            "flex": null,
            "flex_flow": null,
            "grid_area": null,
            "grid_auto_columns": null,
            "grid_auto_flow": null,
            "grid_auto_rows": null,
            "grid_column": null,
            "grid_gap": null,
            "grid_row": null,
            "grid_template_areas": null,
            "grid_template_columns": null,
            "grid_template_rows": null,
            "height": null,
            "justify_content": null,
            "justify_items": null,
            "left": null,
            "margin": null,
            "max_height": null,
            "max_width": null,
            "min_height": null,
            "min_width": null,
            "object_fit": null,
            "object_position": null,
            "order": null,
            "overflow": null,
            "overflow_x": null,
            "overflow_y": null,
            "padding": null,
            "right": null,
            "top": null,
            "visibility": null,
            "width": null
          }
        },
        "7badd60af6bd477ba34d978100ee7f6a": {
          "model_module": "@jupyter-widgets/controls",
          "model_name": "DescriptionStyleModel",
          "model_module_version": "1.5.0",
          "state": {
            "_model_module": "@jupyter-widgets/controls",
            "_model_module_version": "1.5.0",
            "_model_name": "DescriptionStyleModel",
            "_view_count": null,
            "_view_module": "@jupyter-widgets/base",
            "_view_module_version": "1.2.0",
            "_view_name": "StyleView",
            "description_width": ""
          }
        },
        "3434078782be4d54a70e392cef2f7d85": {
          "model_module": "@jupyter-widgets/controls",
          "model_name": "HBoxModel",
          "model_module_version": "1.5.0",
          "state": {
            "_dom_classes": [],
            "_model_module": "@jupyter-widgets/controls",
            "_model_module_version": "1.5.0",
            "_model_name": "HBoxModel",
            "_view_count": null,
            "_view_module": "@jupyter-widgets/controls",
            "_view_module_version": "1.5.0",
            "_view_name": "HBoxView",
            "box_style": "",
            "children": [
              "IPY_MODEL_5fc3a3ffb64549b696d488957ff5cf35",
              "IPY_MODEL_2bef7d3bffab4a299f702d99b48a42d0",
              "IPY_MODEL_3b9a910aa34b4b7cbbaf61e076ce6bec"
            ],
            "layout": "IPY_MODEL_d4fc11691dff42038962098666356dcf"
          }
        },
        "5fc3a3ffb64549b696d488957ff5cf35": {
          "model_module": "@jupyter-widgets/controls",
          "model_name": "HTMLModel",
          "model_module_version": "1.5.0",
          "state": {
            "_dom_classes": [],
            "_model_module": "@jupyter-widgets/controls",
            "_model_module_version": "1.5.0",
            "_model_name": "HTMLModel",
            "_view_count": null,
            "_view_module": "@jupyter-widgets/controls",
            "_view_module_version": "1.5.0",
            "_view_name": "HTMLView",
            "description": "",
            "description_tooltip": null,
            "layout": "IPY_MODEL_839554ee79db42ebbcfecebe8bd2bc7e",
            "placeholder": "​",
            "style": "IPY_MODEL_b9073e824d324917803c5733421ce831",
            "value": "Filter: 100%"
          }
        },
        "2bef7d3bffab4a299f702d99b48a42d0": {
          "model_module": "@jupyter-widgets/controls",
          "model_name": "FloatProgressModel",
          "model_module_version": "1.5.0",
          "state": {
            "_dom_classes": [],
            "_model_module": "@jupyter-widgets/controls",
            "_model_module_version": "1.5.0",
            "_model_name": "FloatProgressModel",
            "_view_count": null,
            "_view_module": "@jupyter-widgets/controls",
            "_view_module_version": "1.5.0",
            "_view_name": "ProgressView",
            "bar_style": "success",
            "description": "",
            "description_tooltip": null,
            "layout": "IPY_MODEL_e2d74a4e298444178b8204121dc80244",
            "max": 1305,
            "min": 0,
            "orientation": "horizontal",
            "style": "IPY_MODEL_1956282698854909b53bb465f0220bf3",
            "value": 1305
          }
        },
        "3b9a910aa34b4b7cbbaf61e076ce6bec": {
          "model_module": "@jupyter-widgets/controls",
          "model_name": "HTMLModel",
          "model_module_version": "1.5.0",
          "state": {
            "_dom_classes": [],
            "_model_module": "@jupyter-widgets/controls",
            "_model_module_version": "1.5.0",
            "_model_name": "HTMLModel",
            "_view_count": null,
            "_view_module": "@jupyter-widgets/controls",
            "_view_module_version": "1.5.0",
            "_view_name": "HTMLView",
            "description": "",
            "description_tooltip": null,
            "layout": "IPY_MODEL_f8047f68906e4ebbbfc1c62b7a020e50",
            "placeholder": "​",
            "style": "IPY_MODEL_3d4cbd01b1a24d4c89efb2161cf8bfb1",
            "value": " 1305/1305 [00:00&lt;00:00, 23872.95 examples/s]"
          }
        },
        "d4fc11691dff42038962098666356dcf": {
          "model_module": "@jupyter-widgets/base",
          "model_name": "LayoutModel",
          "model_module_version": "1.2.0",
          "state": {
            "_model_module": "@jupyter-widgets/base",
            "_model_module_version": "1.2.0",
            "_model_name": "LayoutModel",
            "_view_count": null,
            "_view_module": "@jupyter-widgets/base",
            "_view_module_version": "1.2.0",
            "_view_name": "LayoutView",
            "align_content": null,
            "align_items": null,
            "align_self": null,
            "border": null,
            "bottom": null,
            "display": null,
            "flex": null,
            "flex_flow": null,
            "grid_area": null,
            "grid_auto_columns": null,
            "grid_auto_flow": null,
            "grid_auto_rows": null,
            "grid_column": null,
            "grid_gap": null,
            "grid_row": null,
            "grid_template_areas": null,
            "grid_template_columns": null,
            "grid_template_rows": null,
            "height": null,
            "justify_content": null,
            "justify_items": null,
            "left": null,
            "margin": null,
            "max_height": null,
            "max_width": null,
            "min_height": null,
            "min_width": null,
            "object_fit": null,
            "object_position": null,
            "order": null,
            "overflow": null,
            "overflow_x": null,
            "overflow_y": null,
            "padding": null,
            "right": null,
            "top": null,
            "visibility": null,
            "width": null
          }
        },
        "839554ee79db42ebbcfecebe8bd2bc7e": {
          "model_module": "@jupyter-widgets/base",
          "model_name": "LayoutModel",
          "model_module_version": "1.2.0",
          "state": {
            "_model_module": "@jupyter-widgets/base",
            "_model_module_version": "1.2.0",
            "_model_name": "LayoutModel",
            "_view_count": null,
            "_view_module": "@jupyter-widgets/base",
            "_view_module_version": "1.2.0",
            "_view_name": "LayoutView",
            "align_content": null,
            "align_items": null,
            "align_self": null,
            "border": null,
            "bottom": null,
            "display": null,
            "flex": null,
            "flex_flow": null,
            "grid_area": null,
            "grid_auto_columns": null,
            "grid_auto_flow": null,
            "grid_auto_rows": null,
            "grid_column": null,
            "grid_gap": null,
            "grid_row": null,
            "grid_template_areas": null,
            "grid_template_columns": null,
            "grid_template_rows": null,
            "height": null,
            "justify_content": null,
            "justify_items": null,
            "left": null,
            "margin": null,
            "max_height": null,
            "max_width": null,
            "min_height": null,
            "min_width": null,
            "object_fit": null,
            "object_position": null,
            "order": null,
            "overflow": null,
            "overflow_x": null,
            "overflow_y": null,
            "padding": null,
            "right": null,
            "top": null,
            "visibility": null,
            "width": null
          }
        },
        "b9073e824d324917803c5733421ce831": {
          "model_module": "@jupyter-widgets/controls",
          "model_name": "DescriptionStyleModel",
          "model_module_version": "1.5.0",
          "state": {
            "_model_module": "@jupyter-widgets/controls",
            "_model_module_version": "1.5.0",
            "_model_name": "DescriptionStyleModel",
            "_view_count": null,
            "_view_module": "@jupyter-widgets/base",
            "_view_module_version": "1.2.0",
            "_view_name": "StyleView",
            "description_width": ""
          }
        },
        "e2d74a4e298444178b8204121dc80244": {
          "model_module": "@jupyter-widgets/base",
          "model_name": "LayoutModel",
          "model_module_version": "1.2.0",
          "state": {
            "_model_module": "@jupyter-widgets/base",
            "_model_module_version": "1.2.0",
            "_model_name": "LayoutModel",
            "_view_count": null,
            "_view_module": "@jupyter-widgets/base",
            "_view_module_version": "1.2.0",
            "_view_name": "LayoutView",
            "align_content": null,
            "align_items": null,
            "align_self": null,
            "border": null,
            "bottom": null,
            "display": null,
            "flex": null,
            "flex_flow": null,
            "grid_area": null,
            "grid_auto_columns": null,
            "grid_auto_flow": null,
            "grid_auto_rows": null,
            "grid_column": null,
            "grid_gap": null,
            "grid_row": null,
            "grid_template_areas": null,
            "grid_template_columns": null,
            "grid_template_rows": null,
            "height": null,
            "justify_content": null,
            "justify_items": null,
            "left": null,
            "margin": null,
            "max_height": null,
            "max_width": null,
            "min_height": null,
            "min_width": null,
            "object_fit": null,
            "object_position": null,
            "order": null,
            "overflow": null,
            "overflow_x": null,
            "overflow_y": null,
            "padding": null,
            "right": null,
            "top": null,
            "visibility": null,
            "width": null
          }
        },
        "1956282698854909b53bb465f0220bf3": {
          "model_module": "@jupyter-widgets/controls",
          "model_name": "ProgressStyleModel",
          "model_module_version": "1.5.0",
          "state": {
            "_model_module": "@jupyter-widgets/controls",
            "_model_module_version": "1.5.0",
            "_model_name": "ProgressStyleModel",
            "_view_count": null,
            "_view_module": "@jupyter-widgets/base",
            "_view_module_version": "1.2.0",
            "_view_name": "StyleView",
            "bar_color": null,
            "description_width": ""
          }
        },
        "f8047f68906e4ebbbfc1c62b7a020e50": {
          "model_module": "@jupyter-widgets/base",
          "model_name": "LayoutModel",
          "model_module_version": "1.2.0",
          "state": {
            "_model_module": "@jupyter-widgets/base",
            "_model_module_version": "1.2.0",
            "_model_name": "LayoutModel",
            "_view_count": null,
            "_view_module": "@jupyter-widgets/base",
            "_view_module_version": "1.2.0",
            "_view_name": "LayoutView",
            "align_content": null,
            "align_items": null,
            "align_self": null,
            "border": null,
            "bottom": null,
            "display": null,
            "flex": null,
            "flex_flow": null,
            "grid_area": null,
            "grid_auto_columns": null,
            "grid_auto_flow": null,
            "grid_auto_rows": null,
            "grid_column": null,
            "grid_gap": null,
            "grid_row": null,
            "grid_template_areas": null,
            "grid_template_columns": null,
            "grid_template_rows": null,
            "height": null,
            "justify_content": null,
            "justify_items": null,
            "left": null,
            "margin": null,
            "max_height": null,
            "max_width": null,
            "min_height": null,
            "min_width": null,
            "object_fit": null,
            "object_position": null,
            "order": null,
            "overflow": null,
            "overflow_x": null,
            "overflow_y": null,
            "padding": null,
            "right": null,
            "top": null,
            "visibility": null,
            "width": null
          }
        },
        "3d4cbd01b1a24d4c89efb2161cf8bfb1": {
          "model_module": "@jupyter-widgets/controls",
          "model_name": "DescriptionStyleModel",
          "model_module_version": "1.5.0",
          "state": {
            "_model_module": "@jupyter-widgets/controls",
            "_model_module_version": "1.5.0",
            "_model_name": "DescriptionStyleModel",
            "_view_count": null,
            "_view_module": "@jupyter-widgets/base",
            "_view_module_version": "1.2.0",
            "_view_name": "StyleView",
            "description_width": ""
          }
        },
        "3c83e01ae5cb48c8b66b94fbb1c21e4d": {
          "model_module": "@jupyter-widgets/controls",
          "model_name": "HBoxModel",
          "model_module_version": "1.5.0",
          "state": {
            "_dom_classes": [],
            "_model_module": "@jupyter-widgets/controls",
            "_model_module_version": "1.5.0",
            "_model_name": "HBoxModel",
            "_view_count": null,
            "_view_module": "@jupyter-widgets/controls",
            "_view_module_version": "1.5.0",
            "_view_name": "HBoxView",
            "box_style": "",
            "children": [
              "IPY_MODEL_5a60e6e00d3b4b3ea5886fc7d7f62eac",
              "IPY_MODEL_a1d49b24a0a846879727a2ecbe5029da",
              "IPY_MODEL_24c6a3ec1e0243a490f7c9837ef8283f"
            ],
            "layout": "IPY_MODEL_9c41c59722534e08905fc74bb660811a"
          }
        },
        "5a60e6e00d3b4b3ea5886fc7d7f62eac": {
          "model_module": "@jupyter-widgets/controls",
          "model_name": "HTMLModel",
          "model_module_version": "1.5.0",
          "state": {
            "_dom_classes": [],
            "_model_module": "@jupyter-widgets/controls",
            "_model_module_version": "1.5.0",
            "_model_name": "HTMLModel",
            "_view_count": null,
            "_view_module": "@jupyter-widgets/controls",
            "_view_module_version": "1.5.0",
            "_view_name": "HTMLView",
            "description": "",
            "description_tooltip": null,
            "layout": "IPY_MODEL_ccf5f73c644d42f181bf05c2265a1b3f",
            "placeholder": "​",
            "style": "IPY_MODEL_c2cb20d3eaf741969593abcd9a343aa0",
            "value": "Filter: 100%"
          }
        },
        "a1d49b24a0a846879727a2ecbe5029da": {
          "model_module": "@jupyter-widgets/controls",
          "model_name": "FloatProgressModel",
          "model_module_version": "1.5.0",
          "state": {
            "_dom_classes": [],
            "_model_module": "@jupyter-widgets/controls",
            "_model_module_version": "1.5.0",
            "_model_name": "FloatProgressModel",
            "_view_count": null,
            "_view_module": "@jupyter-widgets/controls",
            "_view_module_version": "1.5.0",
            "_view_name": "ProgressView",
            "bar_style": "success",
            "description": "",
            "description_tooltip": null,
            "layout": "IPY_MODEL_75b400dcb5e542d4aba85be603634735",
            "max": 1305,
            "min": 0,
            "orientation": "horizontal",
            "style": "IPY_MODEL_9b9ca8cd742c430da333140b310af5ef",
            "value": 1305
          }
        },
        "24c6a3ec1e0243a490f7c9837ef8283f": {
          "model_module": "@jupyter-widgets/controls",
          "model_name": "HTMLModel",
          "model_module_version": "1.5.0",
          "state": {
            "_dom_classes": [],
            "_model_module": "@jupyter-widgets/controls",
            "_model_module_version": "1.5.0",
            "_model_name": "HTMLModel",
            "_view_count": null,
            "_view_module": "@jupyter-widgets/controls",
            "_view_module_version": "1.5.0",
            "_view_name": "HTMLView",
            "description": "",
            "description_tooltip": null,
            "layout": "IPY_MODEL_242b3a1a5ea54ea2949f4093d765c7c0",
            "placeholder": "​",
            "style": "IPY_MODEL_10cb1593ac77451cb4a1d4949bd8de95",
            "value": " 1305/1305 [00:00&lt;00:00, 21370.18 examples/s]"
          }
        },
        "9c41c59722534e08905fc74bb660811a": {
          "model_module": "@jupyter-widgets/base",
          "model_name": "LayoutModel",
          "model_module_version": "1.2.0",
          "state": {
            "_model_module": "@jupyter-widgets/base",
            "_model_module_version": "1.2.0",
            "_model_name": "LayoutModel",
            "_view_count": null,
            "_view_module": "@jupyter-widgets/base",
            "_view_module_version": "1.2.0",
            "_view_name": "LayoutView",
            "align_content": null,
            "align_items": null,
            "align_self": null,
            "border": null,
            "bottom": null,
            "display": null,
            "flex": null,
            "flex_flow": null,
            "grid_area": null,
            "grid_auto_columns": null,
            "grid_auto_flow": null,
            "grid_auto_rows": null,
            "grid_column": null,
            "grid_gap": null,
            "grid_row": null,
            "grid_template_areas": null,
            "grid_template_columns": null,
            "grid_template_rows": null,
            "height": null,
            "justify_content": null,
            "justify_items": null,
            "left": null,
            "margin": null,
            "max_height": null,
            "max_width": null,
            "min_height": null,
            "min_width": null,
            "object_fit": null,
            "object_position": null,
            "order": null,
            "overflow": null,
            "overflow_x": null,
            "overflow_y": null,
            "padding": null,
            "right": null,
            "top": null,
            "visibility": null,
            "width": null
          }
        },
        "ccf5f73c644d42f181bf05c2265a1b3f": {
          "model_module": "@jupyter-widgets/base",
          "model_name": "LayoutModel",
          "model_module_version": "1.2.0",
          "state": {
            "_model_module": "@jupyter-widgets/base",
            "_model_module_version": "1.2.0",
            "_model_name": "LayoutModel",
            "_view_count": null,
            "_view_module": "@jupyter-widgets/base",
            "_view_module_version": "1.2.0",
            "_view_name": "LayoutView",
            "align_content": null,
            "align_items": null,
            "align_self": null,
            "border": null,
            "bottom": null,
            "display": null,
            "flex": null,
            "flex_flow": null,
            "grid_area": null,
            "grid_auto_columns": null,
            "grid_auto_flow": null,
            "grid_auto_rows": null,
            "grid_column": null,
            "grid_gap": null,
            "grid_row": null,
            "grid_template_areas": null,
            "grid_template_columns": null,
            "grid_template_rows": null,
            "height": null,
            "justify_content": null,
            "justify_items": null,
            "left": null,
            "margin": null,
            "max_height": null,
            "max_width": null,
            "min_height": null,
            "min_width": null,
            "object_fit": null,
            "object_position": null,
            "order": null,
            "overflow": null,
            "overflow_x": null,
            "overflow_y": null,
            "padding": null,
            "right": null,
            "top": null,
            "visibility": null,
            "width": null
          }
        },
        "c2cb20d3eaf741969593abcd9a343aa0": {
          "model_module": "@jupyter-widgets/controls",
          "model_name": "DescriptionStyleModel",
          "model_module_version": "1.5.0",
          "state": {
            "_model_module": "@jupyter-widgets/controls",
            "_model_module_version": "1.5.0",
            "_model_name": "DescriptionStyleModel",
            "_view_count": null,
            "_view_module": "@jupyter-widgets/base",
            "_view_module_version": "1.2.0",
            "_view_name": "StyleView",
            "description_width": ""
          }
        },
        "75b400dcb5e542d4aba85be603634735": {
          "model_module": "@jupyter-widgets/base",
          "model_name": "LayoutModel",
          "model_module_version": "1.2.0",
          "state": {
            "_model_module": "@jupyter-widgets/base",
            "_model_module_version": "1.2.0",
            "_model_name": "LayoutModel",
            "_view_count": null,
            "_view_module": "@jupyter-widgets/base",
            "_view_module_version": "1.2.0",
            "_view_name": "LayoutView",
            "align_content": null,
            "align_items": null,
            "align_self": null,
            "border": null,
            "bottom": null,
            "display": null,
            "flex": null,
            "flex_flow": null,
            "grid_area": null,
            "grid_auto_columns": null,
            "grid_auto_flow": null,
            "grid_auto_rows": null,
            "grid_column": null,
            "grid_gap": null,
            "grid_row": null,
            "grid_template_areas": null,
            "grid_template_columns": null,
            "grid_template_rows": null,
            "height": null,
            "justify_content": null,
            "justify_items": null,
            "left": null,
            "margin": null,
            "max_height": null,
            "max_width": null,
            "min_height": null,
            "min_width": null,
            "object_fit": null,
            "object_position": null,
            "order": null,
            "overflow": null,
            "overflow_x": null,
            "overflow_y": null,
            "padding": null,
            "right": null,
            "top": null,
            "visibility": null,
            "width": null
          }
        },
        "9b9ca8cd742c430da333140b310af5ef": {
          "model_module": "@jupyter-widgets/controls",
          "model_name": "ProgressStyleModel",
          "model_module_version": "1.5.0",
          "state": {
            "_model_module": "@jupyter-widgets/controls",
            "_model_module_version": "1.5.0",
            "_model_name": "ProgressStyleModel",
            "_view_count": null,
            "_view_module": "@jupyter-widgets/base",
            "_view_module_version": "1.2.0",
            "_view_name": "StyleView",
            "bar_color": null,
            "description_width": ""
          }
        },
        "242b3a1a5ea54ea2949f4093d765c7c0": {
          "model_module": "@jupyter-widgets/base",
          "model_name": "LayoutModel",
          "model_module_version": "1.2.0",
          "state": {
            "_model_module": "@jupyter-widgets/base",
            "_model_module_version": "1.2.0",
            "_model_name": "LayoutModel",
            "_view_count": null,
            "_view_module": "@jupyter-widgets/base",
            "_view_module_version": "1.2.0",
            "_view_name": "LayoutView",
            "align_content": null,
            "align_items": null,
            "align_self": null,
            "border": null,
            "bottom": null,
            "display": null,
            "flex": null,
            "flex_flow": null,
            "grid_area": null,
            "grid_auto_columns": null,
            "grid_auto_flow": null,
            "grid_auto_rows": null,
            "grid_column": null,
            "grid_gap": null,
            "grid_row": null,
            "grid_template_areas": null,
            "grid_template_columns": null,
            "grid_template_rows": null,
            "height": null,
            "justify_content": null,
            "justify_items": null,
            "left": null,
            "margin": null,
            "max_height": null,
            "max_width": null,
            "min_height": null,
            "min_width": null,
            "object_fit": null,
            "object_position": null,
            "order": null,
            "overflow": null,
            "overflow_x": null,
            "overflow_y": null,
            "padding": null,
            "right": null,
            "top": null,
            "visibility": null,
            "width": null
          }
        },
        "10cb1593ac77451cb4a1d4949bd8de95": {
          "model_module": "@jupyter-widgets/controls",
          "model_name": "DescriptionStyleModel",
          "model_module_version": "1.5.0",
          "state": {
            "_model_module": "@jupyter-widgets/controls",
            "_model_module_version": "1.5.0",
            "_model_name": "DescriptionStyleModel",
            "_view_count": null,
            "_view_module": "@jupyter-widgets/base",
            "_view_module_version": "1.2.0",
            "_view_name": "StyleView",
            "description_width": ""
          }
        }
      }
    }
  },
  "nbformat": 4,
  "nbformat_minor": 0
}